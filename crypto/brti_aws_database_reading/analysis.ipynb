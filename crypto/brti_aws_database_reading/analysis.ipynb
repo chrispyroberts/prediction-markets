{
 "cells": [
  {
   "cell_type": "code",
   "execution_count": null,
   "id": "7415beeb",
   "metadata": {},
   "outputs": [
    {
     "name": "stdout",
     "output_type": "stream",
     "text": [
      "(datetime.datetime(2025, 6, 14, 16, 18, 45, 856974, tzinfo=datetime.timezone.utc),)\n"
     ]
    }
   ],
   "source": [
    "import psycopg2\n",
    "\n",
    "conn = psycopg2.connect(\n",
    "    host=\"localhost\",\n",
    "    port=5433,\n",
    "    user=\"ubuntu\",          # ← replace with your actual DB user\n",
    "    dbname=\"brti\"             # ← replace with your actual DB name\n",
    ")\n",
    "cur = conn.cursor()\n",
    "cur.execute(\"SELECT NOW();\")\n",
    "print(cur.fetchone())\n",
    "print(cur.fetchone()[0])\n"
   ]
  },
  {
   "cell_type": "code",
   "execution_count": 9,
   "id": "bb596c77",
   "metadata": {},
   "outputs": [
    {
     "name": "stdout",
     "output_type": "stream",
     "text": [
      "❌ Error: 'decimal.Decimal' object has no attribute 'astimezone'\n"
     ]
    }
   ],
   "source": [
    "import psycopg2\n",
    "from datetime import timezone\n",
    "from zoneinfo import ZoneInfo  # Python 3.9+\n",
    "import datetime\n",
    "\n",
    "# === CONFIGURATION ===\n",
    "DB_HOST = \"localhost\"\n",
    "DB_PORT = 5433  # this matches your SSH tunnel\n",
    "DB_NAME = \"brti\"  # change if yours is different\n",
    "DB_USER = \"ubuntu\"  # change to your DB username\n",
    "\n",
    "# === CONNECT TO DB ===\n",
    "try:\n",
    "    conn = psycopg2.connect(\n",
    "        host=DB_HOST,\n",
    "        port=DB_PORT,\n",
    "        dbname=DB_NAME,\n",
    "        user=DB_USER,\n",
    "    )\n",
    "    cur = conn.cursor()\n",
    "\n",
    "    # === FETCH LATEST PRICE ===\n",
    "    cur.execute(\"SELECT * FROM brti_prices ORDER BY timestamp DESC LIMIT 1;\")\n",
    "    row = cur.fetchone()\n",
    "\n",
    "    if row:\n",
    "        price, ts_utc = row[0], row[1]\n",
    "        ts_est = ts_utc.astimezone(ZoneInfo(\"US/Eastern\"))\n",
    "\n",
    "        print(\"📈 Latest BRTI Price\")\n",
    "        print(\"-------------------------\")\n",
    "        print(f\"💲 Price:        ${price:,.2f}\")\n",
    "        print(f\"🕒 UTC Time:     {ts_utc.strftime('%Y-%m-%d %H:%M:%S.%f %Z')}\")\n",
    "        print(f\"🕒 Eastern Time: {ts_est.strftime('%Y-%m-%d %H:%M:%S.%f %Z')}\")\n",
    "    else:\n",
    "        print(\"⚠️ No data found in the brti_prices table.\")\n",
    "\n",
    "    cur.close()\n",
    "    conn.close()\n",
    "\n",
    "except Exception as e:\n",
    "    print(\"❌ Error:\", e)\n"
   ]
  }
 ],
 "metadata": {
  "kernelspec": {
   "display_name": "base",
   "language": "python",
   "name": "python3"
  },
  "language_info": {
   "codemirror_mode": {
    "name": "ipython",
    "version": 3
   },
   "file_extension": ".py",
   "mimetype": "text/x-python",
   "name": "python",
   "nbconvert_exporter": "python",
   "pygments_lexer": "ipython3",
   "version": "3.12.4"
  }
 },
 "nbformat": 4,
 "nbformat_minor": 5
}
