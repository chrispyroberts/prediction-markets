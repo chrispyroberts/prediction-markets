{
 "cells": [
  {
   "cell_type": "code",
   "execution_count": 12,
   "id": "32d73a40",
   "metadata": {},
   "outputs": [
    {
     "name": "stdout",
     "output_type": "stream",
     "text": [
      "✅ Market with highest open interest:\n",
      "Ticker: KXHIGHNY-25MAY30-T73\n",
      "Open Interest: 7451\n"
     ]
    }
   ],
   "source": [
    "import requests\n",
    "\n",
    "# === CONFIG ===\n",
    "# Want open markets andn nested markets\n",
    "url = \"https://api.elections.kalshi.com/trade-api/v2/events?status=open&series_ticker=KXHIGHNY&with_nested_markets=true\"\n",
    "headers = {\"accept\": \"application/json\"}\n",
    "\n",
    "# === Query the NYC Weather Events ===\n",
    "response = requests.get(url, headers=headers)\n",
    "if response.status_code != 200:\n",
    "    raise Exception(f\"Failed to get data: {response.status_code} {response.text}\")\n",
    "\n",
    "data = response.json()\n",
    "events = data.get(\"events\", [])\n",
    "\n",
    "# === Find Market with Highest Open Interest ===\n",
    "highest_open_interest = -1\n",
    "best_market = None\n",
    "\n",
    "for event in events:\n",
    "    markets = event.get(\"markets\", [])\n",
    "    for market in markets:\n",
    "        oi = market.get(\"open_interest\", 0)\n",
    "        if oi > highest_open_interest:\n",
    "            highest_open_interest = oi\n",
    "            best_market = market\n",
    "\n",
    "\n",
    "if best_market:\n",
    "    print(\"✅ Market with highest open interest:\")\n",
    "    print(f\"Ticker: {best_market['ticker']}\")\n",
    "    print(f\"Open Interest: {best_market['open_interest']}\")\n",
    "else:\n",
    "    print(\"❌ No markets found.\")\n"
   ]
  },
  {
   "cell_type": "code",
   "execution_count": null,
   "id": "eea0c914",
   "metadata": {},
   "outputs": [],
   "source": []
  }
 ],
 "metadata": {
  "kernelspec": {
   "display_name": "base",
   "language": "python",
   "name": "python3"
  },
  "language_info": {
   "codemirror_mode": {
    "name": "ipython",
    "version": 3
   },
   "file_extension": ".py",
   "mimetype": "text/x-python",
   "name": "python",
   "nbconvert_exporter": "python",
   "pygments_lexer": "ipython3",
   "version": "3.12.4"
  }
 },
 "nbformat": 4,
 "nbformat_minor": 5
}
