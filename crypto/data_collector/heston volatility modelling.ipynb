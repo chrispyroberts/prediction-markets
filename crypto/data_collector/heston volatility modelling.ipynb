{
 "cells": [
  {
   "cell_type": "code",
   "execution_count": 6,
   "id": "e515eb61",
   "metadata": {},
   "outputs": [],
   "source": [
    "import numpy as np\n",
    "import matplotlib.pyplot as plt\n",
    "import datetime\n",
    "import pandas as pd"
   ]
  },
  {
   "cell_type": "code",
   "execution_count": 7,
   "id": "219cbb7d",
   "metadata": {},
   "outputs": [],
   "source": [
    "\n",
    "data = pd.read_csv('data/KXBTCD-25MAY1400.csv', delimiter=',')\n",
    "# data = pd.read_csv('data/KXBTCD-25MAY1323.csv', delimiter=',')\n",
    "\n",
    "# data = pd.read_csv('data/data_log.csv', delimiter=',')"
   ]
  },
  {
   "cell_type": "code",
   "execution_count": 10,
   "id": "e7937369",
   "metadata": {},
   "outputs": [
    {
     "data": {
      "text/html": [
       "<div>\n",
       "<style scoped>\n",
       "    .dataframe tbody tr th:only-of-type {\n",
       "        vertical-align: middle;\n",
       "    }\n",
       "\n",
       "    .dataframe tbody tr th {\n",
       "        vertical-align: top;\n",
       "    }\n",
       "\n",
       "    .dataframe thead th {\n",
       "        text-align: right;\n",
       "    }\n",
       "</style>\n",
       "<table border=\"1\" class=\"dataframe\">\n",
       "  <thead>\n",
       "    <tr style=\"text-align: right;\">\n",
       "      <th></th>\n",
       "      <th>timestamp</th>\n",
       "      <th>price</th>\n",
       "    </tr>\n",
       "  </thead>\n",
       "  <tbody>\n",
       "    <tr>\n",
       "      <th>0</th>\n",
       "      <td>2025-05-14 03:01:39+00:00</td>\n",
       "      <td>103754.47</td>\n",
       "    </tr>\n",
       "    <tr>\n",
       "      <th>1</th>\n",
       "      <td>2025-05-14 03:01:40+00:00</td>\n",
       "      <td>103756.77</td>\n",
       "    </tr>\n",
       "    <tr>\n",
       "      <th>2</th>\n",
       "      <td>2025-05-14 03:01:41+00:00</td>\n",
       "      <td>103754.31</td>\n",
       "    </tr>\n",
       "    <tr>\n",
       "      <th>3</th>\n",
       "      <td>2025-05-14 03:01:43+00:00</td>\n",
       "      <td>103754.77</td>\n",
       "    </tr>\n",
       "    <tr>\n",
       "      <th>4</th>\n",
       "      <td>2025-05-14 03:01:44+00:00</td>\n",
       "      <td>103754.14</td>\n",
       "    </tr>\n",
       "  </tbody>\n",
       "</table>\n",
       "</div>"
      ],
      "text/plain": [
       "                  timestamp      price\n",
       "0 2025-05-14 03:01:39+00:00  103754.47\n",
       "1 2025-05-14 03:01:40+00:00  103756.77\n",
       "2 2025-05-14 03:01:41+00:00  103754.31\n",
       "3 2025-05-14 03:01:43+00:00  103754.77\n",
       "4 2025-05-14 03:01:44+00:00  103754.14"
      ]
     },
     "execution_count": 10,
     "metadata": {},
     "output_type": "execute_result"
    }
   ],
   "source": [
    "brti_prices = data[data['product'] == 'BRTI'][['timestamp', 'price']]\n",
    "\n",
    "brti_prices.reset_index(drop=True, inplace=True)\n",
    "\n",
    "brti_prices['timestamp'] = brti_prices.apply(lambda x: datetime.datetime.fromisoformat(x['timestamp']), axis=1)\n",
    "brti_prices['timestamp'] = brti_prices['timestamp'].dt.tz_localize('UTC')\n",
    "\n",
    "\n",
    "start_time = brti_prices['timestamp'].min()\n",
    "\n",
    "brti_prices.head(5)"
   ]
  },
  {
   "cell_type": "code",
   "execution_count": 34,
   "id": "80c33600",
   "metadata": {},
   "outputs": [],
   "source": [
    "all_dfs = {}\n",
    "\n",
    "all_strikes = data['strike'].unique()[1:]\n",
    "\n",
    "for strike in all_strikes:\n",
    "    # Filter the data for the specific strike\n",
    "    strike_df = data[data['strike'] == strike][['timestamp', 'strike', 'bid_1_price', 'ask_1_price', 'expiration_time']]\n",
    "\n",
    "    underlying_data = brti_prices[['timestamp', 'price']]\n",
    "\n",
    "    underlying_data.reset_index(drop=True, inplace=True)\n",
    "    strike_df.reset_index(drop=True, inplace=True)\n",
    "\n",
    "    strike_df['timestamp'] = pd.to_datetime(strike_df['timestamp'], utc=True)\n",
    "    strike_df['expiration_time'] = pd.to_datetime(strike_df['expiration_time'], utc=True)\n",
    "\n",
    "    # find all nan row indexes in expiration time in strike df\n",
    "    nan_indexes = strike_df[strike_df['expiration_time'].isna()].index\n",
    "    # find first non-nan row index in expiration time in strike df\n",
    "    first_non_nan_index = strike_df[strike_df['expiration_time'].notna()].index[0]\n",
    "    # get the expiration time of the first non-nan row\n",
    "    expiration_time = strike_df.loc[first_non_nan_index, 'expiration_time']\n",
    "    # set all nans in expiration time to the expiration time of the first non-nan row\n",
    "    strike_df.loc[nan_indexes, 'expiration_time'] = expiration_time\n",
    "    strike_df['tte'] = (strike_df['expiration_time'] - strike_df['timestamp']).dt.total_seconds() / 60 / 60 / 24 / 365 # in years\n",
    "    strike_df['steps'] = strike_df['tte'] * 365 * 24 * 60 * 60 # in seconds\n",
    "\n",
    "    merged_df = pd.merge(underlying_data, strike_df, on='timestamp', how='left')\n",
    "    all_dfs[strike] = merged_df"
   ]
  },
  {
   "cell_type": "code",
   "execution_count": 47,
   "id": "48f8be2d",
   "metadata": {},
   "outputs": [],
   "source": [
    "strike = 103750.0\n",
    "\n",
    "df = all_dfs[strike]\n",
    "\n",
    "# filter valid rows\n",
    "df_valid = df.dropna(subset=['bid_1_price', 'ask_1_price']).copy()\n",
    "\n",
    "# compute mid price (calibration target)\n",
    "df_valid['mid_price'] = 0.5 * (df_valid['bid_1_price'] + df_valid['ask_1_price'])\n",
    "\n",
    "# extract model inputs\n",
    "spots = df_valid['price'].values\n",
    "strikes = df_valid['strike'].values\n",
    "ttes = df_valid['tte'].values  # Already in years — perfect\n",
    "targets = df_valid['mid_price'].values / 100 # convert to cents"
   ]
  },
  {
   "cell_type": "code",
   "execution_count": 48,
   "id": "5c65736e",
   "metadata": {},
   "outputs": [],
   "source": [
    "def simulate_heston(S0, v0, mu, kappa, theta, xi, rho, T, dt, N):\n",
    "    steps = int(T / dt)\n",
    "    S_paths = np.zeros((steps + 1, N))\n",
    "    v_paths = np.zeros((steps + 1, N))\n",
    "    S_paths[0] = S0\n",
    "    v_paths[0] = v0\n",
    "\n",
    "    for t in range(1, steps + 1):\n",
    "        z1 = np.random.normal(size=N)\n",
    "        z2 = rho * z1 + np.sqrt(1 - rho ** 2) * np.random.normal(size=N)\n",
    "\n",
    "        vt = v_paths[t - 1]\n",
    "        vt_sqrt = np.sqrt(np.maximum(vt, 0))\n",
    "\n",
    "        v_paths[t] = vt + kappa * (theta - vt) * dt + xi * vt_sqrt * np.sqrt(dt) * z2\n",
    "        S_paths[t] = S_paths[t - 1] * np.exp((mu - 0.5 * vt) * dt + vt_sqrt * np.sqrt(dt) * z1)\n",
    "\n",
    "    return S_paths\n",
    "\n",
    "def price_binary_call(S_paths, strike):\n",
    "    final_prices = S_paths[-1]\n",
    "    payoffs = (final_prices > strike).astype(float)\n",
    "    return payoffs.mean()"
   ]
  },
  {
   "cell_type": "code",
   "execution_count": 63,
   "id": "d40a817a",
   "metadata": {},
   "outputs": [],
   "source": [
    "def binary_heston_loss(params, N=1000, verbose=False):\n",
    "    kappa, theta, xi, rho, v0 = params\n",
    "    mu = 0.0\n",
    "\n",
    "    total_error = 0\n",
    "    errors = []\n",
    "\n",
    "    for strike in all_strikes:\n",
    "        df = all_dfs[strike]\n",
    "        # filter valid rows\n",
    "        df_valid = df.dropna(subset=['bid_1_price', 'ask_1_price']).copy()\n",
    "        # compute mid price (calibration target)\n",
    "        df_valid['mid_price'] = 0.5 * (df_valid['bid_1_price'] + df_valid['ask_1_price'])        \n",
    "\n",
    "        spots = df_valid['price'].values\n",
    "        strikes = df_valid['strike'].values\n",
    "        ttes = df_valid['tte'].values  # Already in years — perfect\n",
    "        targets = df_valid['mid_price'].values / 100\n",
    "\n",
    "        for i in range(len(spots)):\n",
    "            S0, K, T = spots[i], strikes[i], ttes[i]\n",
    "            if T <= 0:\n",
    "                continue\n",
    "\n",
    "            # --- Use coarse resolution (e.g., 5 steps per path) ---\n",
    "            n_steps = min(5, int(T / 1e-6))  # fallback to 1 step if needed\n",
    "            dt = T / n_steps\n",
    "\n",
    "            S_paths = simulate_heston(S0, v0, mu, kappa, theta, xi, rho, T, dt, N)\n",
    "            payoff = (S_paths[-1] > K).astype(float)\n",
    "            model_price = payoff.mean()\n",
    "\n",
    "            error = (model_price - targets[i]) ** 2\n",
    "            total_error += error\n",
    "            errors.append(error)\n",
    "\n",
    "    if verbose:\n",
    "        print(f\"[LOSS] loss={total_error:.6f} | kappa={kappa:.3f}, theta={theta:.4f}, xi={xi:.3f}, rho={rho:.3f}, v0={v0:.4f}\")\n",
    "        print(f\"        mean_error={np.mean(errors):.6f}, max_error={np.max(errors):.6f}, median_error={np.median(errors):.6f}\")\n",
    "\n",
    "    return total_error\n"
   ]
  },
  {
   "cell_type": "markdown",
   "id": "12962a21",
   "metadata": {},
   "source": [
    "# estimate initial params"
   ]
  },
  {
   "cell_type": "code",
   "execution_count": 64,
   "id": "7e195cd8",
   "metadata": {},
   "outputs": [
    {
     "name": "stderr",
     "output_type": "stream",
     "text": [
      "C:\\Users\\chris\\AppData\\Local\\Temp\\ipykernel_26876\\1328471307.py:8: FutureWarning: 'S' is deprecated and will be removed in a future version, please use 's' instead.\n",
      "  df = df.resample('1S').ffill()\n"
     ]
    },
    {
     "data": {
      "text/plain": [
       "(0.017424772610315893, 0.031021133684234165, 0.028469096048387613)"
      ]
     },
     "execution_count": 64,
     "metadata": {},
     "output_type": "execute_result"
    }
   ],
   "source": [
    "df = brti_prices.copy()\n",
    "\n",
    "# Step 1: Make sure timestamp is datetime and sorted\n",
    "df['timestamp'] = pd.to_datetime(df['timestamp'])\n",
    "df = df.set_index('timestamp').sort_index()\n",
    "\n",
    "# Step 2: Resample to 1-second intervals and forward-fill missing prices\n",
    "df = df.resample('1S').ffill()\n",
    "\n",
    "# Step 3: Compute log returns\n",
    "df['log_return'] = np.log(df['price']).diff()\n",
    "\n",
    "# Step 4: Compute rolling realized volatility over a window of seconds\n",
    "window = 600\n",
    "seconds_per_year = 365 * 24 * 60 * 60\n",
    "delta_t = 1 / seconds_per_year\n",
    "\n",
    "# Annualized rolling standard deviation\n",
    "df['realized_vol_10min'] = df['log_return'].rolling(window).std() / np.sqrt(delta_t)\n",
    "\n",
    "df = df.reset_index()\n",
    "\n",
    "realized_vol_df = df[['timestamp', 'realized_vol_10min']].copy()\n",
    "\n",
    "df['log_return'] = np.log(df['price']).diff()\n",
    "df['squared_return'] = df['log_return']**2\n",
    "span_seconds = 1200  # EMA over 10 minutes = 600s\n",
    "df['ema_squared_return'] = df['squared_return'].ewm(span=span_seconds, adjust=False).mean()\n",
    "seconds_per_year = 365 * 24 * 60 * 60\n",
    "df['ema_realized_vol'] = np.sqrt(df['ema_squared_return']) * np.sqrt(seconds_per_year)\n",
    "\n",
    "# Use your latest 10-min realized vol as v0\n",
    "v0 = df['ema_realized_vol'].iloc[-1]**2\n",
    "\n",
    "# Use the historical median realized vol² as theta\n",
    "theta = df['ema_realized_vol'].median()**2\n",
    "\n",
    "# Estimate vol-of-vol as std deviation of realized vol\n",
    "xi = df['ema_realized_vol'].std()\n",
    "\n",
    "# Leave kappa as 1.5 unless you estimate autocorrelation\n",
    "# rho typically in [-0.9, -0.3] — crypto is skewed negative\n",
    "\n",
    "v0, theta, xi"
   ]
  },
  {
   "cell_type": "code",
   "execution_count": 66,
   "id": "21fed52a",
   "metadata": {},
   "outputs": [
    {
     "name": "stdout",
     "output_type": "stream",
     "text": [
      "[LOSS] loss=72.253793 | kappa=1.500, theta=0.0310, xi=0.028, rho=-0.600, v0=0.0174\n",
      "        mean_error=0.007590, max_error=0.062500, median_error=0.004624\n"
     ]
    },
    {
     "ename": "KeyboardInterrupt",
     "evalue": "",
     "output_type": "error",
     "traceback": [
      "\u001b[1;31m---------------------------------------------------------------------------\u001b[0m",
      "\u001b[1;31mKeyboardInterrupt\u001b[0m                         Traceback (most recent call last)",
      "Cell \u001b[1;32mIn[66], line 16\u001b[0m\n\u001b[0;32m      7\u001b[0m params0 \u001b[38;5;241m=\u001b[39m [\n\u001b[0;32m      8\u001b[0m     \u001b[38;5;241m1.5\u001b[39m,                      \u001b[38;5;66;03m# kappa\u001b[39;00m\n\u001b[0;32m      9\u001b[0m     theta,                    \u001b[38;5;66;03m# theta\u001b[39;00m\n\u001b[1;32m   (...)\u001b[0m\n\u001b[0;32m     12\u001b[0m     v0                        \u001b[38;5;66;03m# v0\u001b[39;00m\n\u001b[0;32m     13\u001b[0m ]\n\u001b[0;32m     14\u001b[0m bounds \u001b[38;5;241m=\u001b[39m [(\u001b[38;5;241m0.01\u001b[39m, \u001b[38;5;241m10\u001b[39m), (\u001b[38;5;241m0.001\u001b[39m, \u001b[38;5;241m1\u001b[39m), (\u001b[38;5;241m0.01\u001b[39m, \u001b[38;5;241m2\u001b[39m), (\u001b[38;5;241m-\u001b[39m\u001b[38;5;241m0.99\u001b[39m, \u001b[38;5;241m0.0\u001b[39m), (\u001b[38;5;241m0.001\u001b[39m, \u001b[38;5;241m1\u001b[39m)]\n\u001b[1;32m---> 16\u001b[0m res \u001b[38;5;241m=\u001b[39m minimize(loss_wrapper, params0, bounds\u001b[38;5;241m=\u001b[39mbounds, method\u001b[38;5;241m=\u001b[39m\u001b[38;5;124m'\u001b[39m\u001b[38;5;124mL-BFGS-B\u001b[39m\u001b[38;5;124m'\u001b[39m)\n",
      "File \u001b[1;32mc:\\Users\\chris\\anaconda3\\Lib\\site-packages\\scipy\\optimize\\_minimize.py:713\u001b[0m, in \u001b[0;36mminimize\u001b[1;34m(fun, x0, args, method, jac, hess, hessp, bounds, constraints, tol, callback, options)\u001b[0m\n\u001b[0;32m    710\u001b[0m     res \u001b[38;5;241m=\u001b[39m _minimize_newtoncg(fun, x0, args, jac, hess, hessp, callback,\n\u001b[0;32m    711\u001b[0m                              \u001b[38;5;241m*\u001b[39m\u001b[38;5;241m*\u001b[39moptions)\n\u001b[0;32m    712\u001b[0m \u001b[38;5;28;01melif\u001b[39;00m meth \u001b[38;5;241m==\u001b[39m \u001b[38;5;124m'\u001b[39m\u001b[38;5;124ml-bfgs-b\u001b[39m\u001b[38;5;124m'\u001b[39m:\n\u001b[1;32m--> 713\u001b[0m     res \u001b[38;5;241m=\u001b[39m _minimize_lbfgsb(fun, x0, args, jac, bounds,\n\u001b[0;32m    714\u001b[0m                            callback\u001b[38;5;241m=\u001b[39mcallback, \u001b[38;5;241m*\u001b[39m\u001b[38;5;241m*\u001b[39moptions)\n\u001b[0;32m    715\u001b[0m \u001b[38;5;28;01melif\u001b[39;00m meth \u001b[38;5;241m==\u001b[39m \u001b[38;5;124m'\u001b[39m\u001b[38;5;124mtnc\u001b[39m\u001b[38;5;124m'\u001b[39m:\n\u001b[0;32m    716\u001b[0m     res \u001b[38;5;241m=\u001b[39m _minimize_tnc(fun, x0, args, jac, bounds, callback\u001b[38;5;241m=\u001b[39mcallback,\n\u001b[0;32m    717\u001b[0m                         \u001b[38;5;241m*\u001b[39m\u001b[38;5;241m*\u001b[39moptions)\n",
      "File \u001b[1;32mc:\\Users\\chris\\anaconda3\\Lib\\site-packages\\scipy\\optimize\\_lbfgsb_py.py:347\u001b[0m, in \u001b[0;36m_minimize_lbfgsb\u001b[1;34m(fun, x0, args, jac, bounds, disp, maxcor, ftol, gtol, eps, maxfun, maxiter, iprint, callback, maxls, finite_diff_rel_step, **unknown_options)\u001b[0m\n\u001b[0;32m    344\u001b[0m         iprint \u001b[38;5;241m=\u001b[39m disp\n\u001b[0;32m    346\u001b[0m \u001b[38;5;66;03m# _prepare_scalar_function can use bounds=None to represent no bounds\u001b[39;00m\n\u001b[1;32m--> 347\u001b[0m sf \u001b[38;5;241m=\u001b[39m _prepare_scalar_function(fun, x0, jac\u001b[38;5;241m=\u001b[39mjac, args\u001b[38;5;241m=\u001b[39margs, epsilon\u001b[38;5;241m=\u001b[39meps,\n\u001b[0;32m    348\u001b[0m                               bounds\u001b[38;5;241m=\u001b[39mbounds,\n\u001b[0;32m    349\u001b[0m                               finite_diff_rel_step\u001b[38;5;241m=\u001b[39mfinite_diff_rel_step)\n\u001b[0;32m    351\u001b[0m func_and_grad \u001b[38;5;241m=\u001b[39m sf\u001b[38;5;241m.\u001b[39mfun_and_grad\n\u001b[0;32m    353\u001b[0m fortran_int \u001b[38;5;241m=\u001b[39m _lbfgsb\u001b[38;5;241m.\u001b[39mtypes\u001b[38;5;241m.\u001b[39mintvar\u001b[38;5;241m.\u001b[39mdtype\n",
      "File \u001b[1;32mc:\\Users\\chris\\anaconda3\\Lib\\site-packages\\scipy\\optimize\\_optimize.py:288\u001b[0m, in \u001b[0;36m_prepare_scalar_function\u001b[1;34m(fun, x0, jac, args, bounds, epsilon, finite_diff_rel_step, hess)\u001b[0m\n\u001b[0;32m    284\u001b[0m     bounds \u001b[38;5;241m=\u001b[39m (\u001b[38;5;241m-\u001b[39mnp\u001b[38;5;241m.\u001b[39minf, np\u001b[38;5;241m.\u001b[39minf)\n\u001b[0;32m    286\u001b[0m \u001b[38;5;66;03m# ScalarFunction caches. Reuse of fun(x) during grad\u001b[39;00m\n\u001b[0;32m    287\u001b[0m \u001b[38;5;66;03m# calculation reduces overall function evaluations.\u001b[39;00m\n\u001b[1;32m--> 288\u001b[0m sf \u001b[38;5;241m=\u001b[39m ScalarFunction(fun, x0, args, grad, hess,\n\u001b[0;32m    289\u001b[0m                     finite_diff_rel_step, bounds, epsilon\u001b[38;5;241m=\u001b[39mepsilon)\n\u001b[0;32m    291\u001b[0m \u001b[38;5;28;01mreturn\u001b[39;00m sf\n",
      "File \u001b[1;32mc:\\Users\\chris\\anaconda3\\Lib\\site-packages\\scipy\\optimize\\_differentiable_functions.py:185\u001b[0m, in \u001b[0;36mScalarFunction.__init__\u001b[1;34m(self, fun, x0, args, grad, hess, finite_diff_rel_step, finite_diff_bounds, epsilon)\u001b[0m\n\u001b[0;32m    181\u001b[0m         \u001b[38;5;28mself\u001b[39m\u001b[38;5;241m.\u001b[39mg \u001b[38;5;241m=\u001b[39m approx_derivative(fun_wrapped, \u001b[38;5;28mself\u001b[39m\u001b[38;5;241m.\u001b[39mx, f0\u001b[38;5;241m=\u001b[39m\u001b[38;5;28mself\u001b[39m\u001b[38;5;241m.\u001b[39mf,\n\u001b[0;32m    182\u001b[0m                                    \u001b[38;5;241m*\u001b[39m\u001b[38;5;241m*\u001b[39mfinite_diff_options)\n\u001b[0;32m    184\u001b[0m \u001b[38;5;28mself\u001b[39m\u001b[38;5;241m.\u001b[39m_update_grad_impl \u001b[38;5;241m=\u001b[39m update_grad\n\u001b[1;32m--> 185\u001b[0m \u001b[38;5;28mself\u001b[39m\u001b[38;5;241m.\u001b[39m_update_grad()\n\u001b[0;32m    187\u001b[0m \u001b[38;5;66;03m# Hessian Evaluation\u001b[39;00m\n\u001b[0;32m    188\u001b[0m \u001b[38;5;28;01mif\u001b[39;00m \u001b[38;5;28mcallable\u001b[39m(hess):\n",
      "File \u001b[1;32mc:\\Users\\chris\\anaconda3\\Lib\\site-packages\\scipy\\optimize\\_differentiable_functions.py:267\u001b[0m, in \u001b[0;36mScalarFunction._update_grad\u001b[1;34m(self)\u001b[0m\n\u001b[0;32m    265\u001b[0m \u001b[38;5;28;01mdef\u001b[39;00m \u001b[38;5;21m_update_grad\u001b[39m(\u001b[38;5;28mself\u001b[39m):\n\u001b[0;32m    266\u001b[0m     \u001b[38;5;28;01mif\u001b[39;00m \u001b[38;5;129;01mnot\u001b[39;00m \u001b[38;5;28mself\u001b[39m\u001b[38;5;241m.\u001b[39mg_updated:\n\u001b[1;32m--> 267\u001b[0m         \u001b[38;5;28mself\u001b[39m\u001b[38;5;241m.\u001b[39m_update_grad_impl()\n\u001b[0;32m    268\u001b[0m         \u001b[38;5;28mself\u001b[39m\u001b[38;5;241m.\u001b[39mg_updated \u001b[38;5;241m=\u001b[39m \u001b[38;5;28;01mTrue\u001b[39;00m\n",
      "File \u001b[1;32mc:\\Users\\chris\\anaconda3\\Lib\\site-packages\\scipy\\optimize\\_differentiable_functions.py:181\u001b[0m, in \u001b[0;36mScalarFunction.__init__.<locals>.update_grad\u001b[1;34m()\u001b[0m\n\u001b[0;32m    179\u001b[0m \u001b[38;5;28mself\u001b[39m\u001b[38;5;241m.\u001b[39m_update_fun()\n\u001b[0;32m    180\u001b[0m \u001b[38;5;28mself\u001b[39m\u001b[38;5;241m.\u001b[39mngev \u001b[38;5;241m+\u001b[39m\u001b[38;5;241m=\u001b[39m \u001b[38;5;241m1\u001b[39m\n\u001b[1;32m--> 181\u001b[0m \u001b[38;5;28mself\u001b[39m\u001b[38;5;241m.\u001b[39mg \u001b[38;5;241m=\u001b[39m approx_derivative(fun_wrapped, \u001b[38;5;28mself\u001b[39m\u001b[38;5;241m.\u001b[39mx, f0\u001b[38;5;241m=\u001b[39m\u001b[38;5;28mself\u001b[39m\u001b[38;5;241m.\u001b[39mf,\n\u001b[0;32m    182\u001b[0m                            \u001b[38;5;241m*\u001b[39m\u001b[38;5;241m*\u001b[39mfinite_diff_options)\n",
      "File \u001b[1;32mc:\\Users\\chris\\anaconda3\\Lib\\site-packages\\scipy\\optimize\\_numdiff.py:519\u001b[0m, in \u001b[0;36mapprox_derivative\u001b[1;34m(fun, x0, method, rel_step, abs_step, f0, bounds, sparsity, as_linear_operator, args, kwargs)\u001b[0m\n\u001b[0;32m    516\u001b[0m     use_one_sided \u001b[38;5;241m=\u001b[39m \u001b[38;5;28;01mFalse\u001b[39;00m\n\u001b[0;32m    518\u001b[0m \u001b[38;5;28;01mif\u001b[39;00m sparsity \u001b[38;5;129;01mis\u001b[39;00m \u001b[38;5;28;01mNone\u001b[39;00m:\n\u001b[1;32m--> 519\u001b[0m     \u001b[38;5;28;01mreturn\u001b[39;00m _dense_difference(fun_wrapped, x0, f0, h,\n\u001b[0;32m    520\u001b[0m                              use_one_sided, method)\n\u001b[0;32m    521\u001b[0m \u001b[38;5;28;01melse\u001b[39;00m:\n\u001b[0;32m    522\u001b[0m     \u001b[38;5;28;01mif\u001b[39;00m \u001b[38;5;129;01mnot\u001b[39;00m issparse(sparsity) \u001b[38;5;129;01mand\u001b[39;00m \u001b[38;5;28mlen\u001b[39m(sparsity) \u001b[38;5;241m==\u001b[39m \u001b[38;5;241m2\u001b[39m:\n",
      "File \u001b[1;32mc:\\Users\\chris\\anaconda3\\Lib\\site-packages\\scipy\\optimize\\_numdiff.py:590\u001b[0m, in \u001b[0;36m_dense_difference\u001b[1;34m(fun, x0, f0, h, use_one_sided, method)\u001b[0m\n\u001b[0;32m    588\u001b[0m     x \u001b[38;5;241m=\u001b[39m x0 \u001b[38;5;241m+\u001b[39m h_vecs[i]\n\u001b[0;32m    589\u001b[0m     dx \u001b[38;5;241m=\u001b[39m x[i] \u001b[38;5;241m-\u001b[39m x0[i]  \u001b[38;5;66;03m# Recompute dx as exactly representable number.\u001b[39;00m\n\u001b[1;32m--> 590\u001b[0m     df \u001b[38;5;241m=\u001b[39m fun(x) \u001b[38;5;241m-\u001b[39m f0\n\u001b[0;32m    591\u001b[0m \u001b[38;5;28;01melif\u001b[39;00m method \u001b[38;5;241m==\u001b[39m \u001b[38;5;124m'\u001b[39m\u001b[38;5;124m3-point\u001b[39m\u001b[38;5;124m'\u001b[39m \u001b[38;5;129;01mand\u001b[39;00m use_one_sided[i]:\n\u001b[0;32m    592\u001b[0m     x1 \u001b[38;5;241m=\u001b[39m x0 \u001b[38;5;241m+\u001b[39m h_vecs[i]\n",
      "File \u001b[1;32mc:\\Users\\chris\\anaconda3\\Lib\\site-packages\\scipy\\optimize\\_numdiff.py:470\u001b[0m, in \u001b[0;36mapprox_derivative.<locals>.fun_wrapped\u001b[1;34m(x)\u001b[0m\n\u001b[0;32m    467\u001b[0m \u001b[38;5;28;01mif\u001b[39;00m xp\u001b[38;5;241m.\u001b[39misdtype(x\u001b[38;5;241m.\u001b[39mdtype, \u001b[38;5;124m\"\u001b[39m\u001b[38;5;124mreal floating\u001b[39m\u001b[38;5;124m\"\u001b[39m):\n\u001b[0;32m    468\u001b[0m     x \u001b[38;5;241m=\u001b[39m xp\u001b[38;5;241m.\u001b[39mastype(x, x0\u001b[38;5;241m.\u001b[39mdtype)\n\u001b[1;32m--> 470\u001b[0m f \u001b[38;5;241m=\u001b[39m np\u001b[38;5;241m.\u001b[39matleast_1d(fun(x, \u001b[38;5;241m*\u001b[39margs, \u001b[38;5;241m*\u001b[39m\u001b[38;5;241m*\u001b[39mkwargs))\n\u001b[0;32m    471\u001b[0m \u001b[38;5;28;01mif\u001b[39;00m f\u001b[38;5;241m.\u001b[39mndim \u001b[38;5;241m>\u001b[39m \u001b[38;5;241m1\u001b[39m:\n\u001b[0;32m    472\u001b[0m     \u001b[38;5;28;01mraise\u001b[39;00m \u001b[38;5;167;01mRuntimeError\u001b[39;00m(\u001b[38;5;124m\"\u001b[39m\u001b[38;5;124m`fun` return value has \u001b[39m\u001b[38;5;124m\"\u001b[39m\n\u001b[0;32m    473\u001b[0m                        \u001b[38;5;124m\"\u001b[39m\u001b[38;5;124mmore than 1 dimension.\u001b[39m\u001b[38;5;124m\"\u001b[39m)\n",
      "File \u001b[1;32mc:\\Users\\chris\\anaconda3\\Lib\\site-packages\\scipy\\optimize\\_differentiable_functions.py:145\u001b[0m, in \u001b[0;36mScalarFunction.__init__.<locals>.fun_wrapped\u001b[1;34m(x)\u001b[0m\n\u001b[0;32m    141\u001b[0m \u001b[38;5;28mself\u001b[39m\u001b[38;5;241m.\u001b[39mnfev \u001b[38;5;241m+\u001b[39m\u001b[38;5;241m=\u001b[39m \u001b[38;5;241m1\u001b[39m\n\u001b[0;32m    142\u001b[0m \u001b[38;5;66;03m# Send a copy because the user may overwrite it.\u001b[39;00m\n\u001b[0;32m    143\u001b[0m \u001b[38;5;66;03m# Overwriting results in undefined behaviour because\u001b[39;00m\n\u001b[0;32m    144\u001b[0m \u001b[38;5;66;03m# fun(self.x) will change self.x, with the two no longer linked.\u001b[39;00m\n\u001b[1;32m--> 145\u001b[0m fx \u001b[38;5;241m=\u001b[39m fun(np\u001b[38;5;241m.\u001b[39mcopy(x), \u001b[38;5;241m*\u001b[39margs)\n\u001b[0;32m    146\u001b[0m \u001b[38;5;66;03m# Make sure the function returns a true scalar\u001b[39;00m\n\u001b[0;32m    147\u001b[0m \u001b[38;5;28;01mif\u001b[39;00m \u001b[38;5;129;01mnot\u001b[39;00m np\u001b[38;5;241m.\u001b[39misscalar(fx):\n",
      "Cell \u001b[1;32mIn[66], line 3\u001b[0m, in \u001b[0;36m<lambda>\u001b[1;34m(p)\u001b[0m\n\u001b[0;32m      1\u001b[0m \u001b[38;5;28;01mfrom\u001b[39;00m \u001b[38;5;21;01mscipy\u001b[39;00m\u001b[38;5;21;01m.\u001b[39;00m\u001b[38;5;21;01moptimize\u001b[39;00m \u001b[38;5;28;01mimport\u001b[39;00m minimize\n\u001b[1;32m----> 3\u001b[0m loss_wrapper \u001b[38;5;241m=\u001b[39m \u001b[38;5;28;01mlambda\u001b[39;00m p: binary_heston_loss(\n\u001b[0;32m      4\u001b[0m     p, verbose\u001b[38;5;241m=\u001b[39m\u001b[38;5;28;01mTrue\u001b[39;00m\n\u001b[0;32m      5\u001b[0m )\n\u001b[0;32m      7\u001b[0m params0 \u001b[38;5;241m=\u001b[39m [\n\u001b[0;32m      8\u001b[0m     \u001b[38;5;241m1.5\u001b[39m,                      \u001b[38;5;66;03m# kappa\u001b[39;00m\n\u001b[0;32m      9\u001b[0m     theta,                    \u001b[38;5;66;03m# theta\u001b[39;00m\n\u001b[1;32m   (...)\u001b[0m\n\u001b[0;32m     12\u001b[0m     v0                        \u001b[38;5;66;03m# v0\u001b[39;00m\n\u001b[0;32m     13\u001b[0m ]\n\u001b[0;32m     14\u001b[0m bounds \u001b[38;5;241m=\u001b[39m [(\u001b[38;5;241m0.01\u001b[39m, \u001b[38;5;241m10\u001b[39m), (\u001b[38;5;241m0.001\u001b[39m, \u001b[38;5;241m1\u001b[39m), (\u001b[38;5;241m0.01\u001b[39m, \u001b[38;5;241m2\u001b[39m), (\u001b[38;5;241m-\u001b[39m\u001b[38;5;241m0.99\u001b[39m, \u001b[38;5;241m0.0\u001b[39m), (\u001b[38;5;241m0.001\u001b[39m, \u001b[38;5;241m1\u001b[39m)]\n",
      "Cell \u001b[1;32mIn[63], line 29\u001b[0m, in \u001b[0;36mbinary_heston_loss\u001b[1;34m(params, N, verbose)\u001b[0m\n\u001b[0;32m     26\u001b[0m n_steps \u001b[38;5;241m=\u001b[39m \u001b[38;5;28mmin\u001b[39m(\u001b[38;5;241m5\u001b[39m, \u001b[38;5;28mint\u001b[39m(T \u001b[38;5;241m/\u001b[39m \u001b[38;5;241m1e-6\u001b[39m))  \u001b[38;5;66;03m# fallback to 1 step if needed\u001b[39;00m\n\u001b[0;32m     27\u001b[0m dt \u001b[38;5;241m=\u001b[39m T \u001b[38;5;241m/\u001b[39m n_steps\n\u001b[1;32m---> 29\u001b[0m S_paths \u001b[38;5;241m=\u001b[39m simulate_heston(S0, v0, mu, kappa, theta, xi, rho, T, dt, N)\n\u001b[0;32m     30\u001b[0m payoff \u001b[38;5;241m=\u001b[39m (S_paths[\u001b[38;5;241m-\u001b[39m\u001b[38;5;241m1\u001b[39m] \u001b[38;5;241m>\u001b[39m K)\u001b[38;5;241m.\u001b[39mastype(\u001b[38;5;28mfloat\u001b[39m)\n\u001b[0;32m     31\u001b[0m model_price \u001b[38;5;241m=\u001b[39m payoff\u001b[38;5;241m.\u001b[39mmean()\n",
      "Cell \u001b[1;32mIn[48], line 9\u001b[0m, in \u001b[0;36msimulate_heston\u001b[1;34m(S0, v0, mu, kappa, theta, xi, rho, T, dt, N)\u001b[0m\n\u001b[0;32m      6\u001b[0m v_paths[\u001b[38;5;241m0\u001b[39m] \u001b[38;5;241m=\u001b[39m v0\n\u001b[0;32m      8\u001b[0m \u001b[38;5;28;01mfor\u001b[39;00m t \u001b[38;5;129;01min\u001b[39;00m \u001b[38;5;28mrange\u001b[39m(\u001b[38;5;241m1\u001b[39m, steps \u001b[38;5;241m+\u001b[39m \u001b[38;5;241m1\u001b[39m):\n\u001b[1;32m----> 9\u001b[0m     z1 \u001b[38;5;241m=\u001b[39m np\u001b[38;5;241m.\u001b[39mrandom\u001b[38;5;241m.\u001b[39mnormal(size\u001b[38;5;241m=\u001b[39mN)\n\u001b[0;32m     10\u001b[0m     z2 \u001b[38;5;241m=\u001b[39m rho \u001b[38;5;241m*\u001b[39m z1 \u001b[38;5;241m+\u001b[39m np\u001b[38;5;241m.\u001b[39msqrt(\u001b[38;5;241m1\u001b[39m \u001b[38;5;241m-\u001b[39m rho \u001b[38;5;241m*\u001b[39m\u001b[38;5;241m*\u001b[39m \u001b[38;5;241m2\u001b[39m) \u001b[38;5;241m*\u001b[39m np\u001b[38;5;241m.\u001b[39mrandom\u001b[38;5;241m.\u001b[39mnormal(size\u001b[38;5;241m=\u001b[39mN)\n\u001b[0;32m     12\u001b[0m     vt \u001b[38;5;241m=\u001b[39m v_paths[t \u001b[38;5;241m-\u001b[39m \u001b[38;5;241m1\u001b[39m]\n",
      "\u001b[1;31mKeyboardInterrupt\u001b[0m: "
     ]
    }
   ],
   "source": [
    "from scipy.optimize import minimize\n",
    "\n",
    "loss_wrapper = lambda p: binary_heston_loss(\n",
    "    p, verbose=True\n",
    ")\n",
    "\n",
    "params0 = [\n",
    "    1.5,                      # kappa\n",
    "    theta,                    # theta\n",
    "    xi,                       # xi\n",
    "    -0.6,                     # rho\n",
    "    v0                        # v0\n",
    "]\n",
    "bounds = [(0.01, 10), (0.001, 1), (0.01, 2), (-0.99, 0.0), (0.001, 1)]\n",
    "\n",
    "res = minimize(loss_wrapper, params0, bounds=bounds, method='L-BFGS-B')"
   ]
  },
  {
   "cell_type": "code",
   "execution_count": 67,
   "id": "2aa35f83",
   "metadata": {},
   "outputs": [
    {
     "ename": "KeyboardInterrupt",
     "evalue": "",
     "output_type": "error",
     "traceback": [
      "\u001b[1;31m---------------------------------------------------------------------------\u001b[0m",
      "\u001b[1;31mKeyboardInterrupt\u001b[0m                         Traceback (most recent call last)",
      "Cell \u001b[1;32mIn[67], line 9\u001b[0m\n\u001b[0;32m      1\u001b[0m calibrated_params \u001b[38;5;241m=\u001b[39m {\n\u001b[0;32m      2\u001b[0m     \u001b[38;5;124m'\u001b[39m\u001b[38;5;124mkappa\u001b[39m\u001b[38;5;124m'\u001b[39m: \u001b[38;5;241m1.543\u001b[39m,\n\u001b[0;32m      3\u001b[0m     \u001b[38;5;124m'\u001b[39m\u001b[38;5;124mtheta\u001b[39m\u001b[38;5;124m'\u001b[39m: \u001b[38;5;241m0.0309\u001b[39m,\n\u001b[1;32m   (...)\u001b[0m\n\u001b[0;32m      6\u001b[0m     \u001b[38;5;124m'\u001b[39m\u001b[38;5;124mv0\u001b[39m\u001b[38;5;124m'\u001b[39m: \u001b[38;5;241m0.0173\u001b[39m\n\u001b[0;32m      7\u001b[0m }\n\u001b[1;32m----> 9\u001b[0m binary_heston_loss(\n\u001b[0;32m     10\u001b[0m     [\u001b[38;5;241m1.543\u001b[39m, \u001b[38;5;241m0.0309\u001b[39m, \u001b[38;5;241m0.028\u001b[39m, \u001b[38;5;241m-\u001b[39m\u001b[38;5;241m0.602\u001b[39m, \u001b[38;5;241m0.0173\u001b[39m],\n\u001b[0;32m     11\u001b[0m      N\u001b[38;5;241m=\u001b[39m\u001b[38;5;241m10000\u001b[39m, verbose\u001b[38;5;241m=\u001b[39m\u001b[38;5;28;01mTrue\u001b[39;00m\n\u001b[0;32m     12\u001b[0m )\n",
      "Cell \u001b[1;32mIn[63], line 29\u001b[0m, in \u001b[0;36mbinary_heston_loss\u001b[1;34m(params, N, verbose)\u001b[0m\n\u001b[0;32m     26\u001b[0m n_steps \u001b[38;5;241m=\u001b[39m \u001b[38;5;28mmin\u001b[39m(\u001b[38;5;241m5\u001b[39m, \u001b[38;5;28mint\u001b[39m(T \u001b[38;5;241m/\u001b[39m \u001b[38;5;241m1e-6\u001b[39m))  \u001b[38;5;66;03m# fallback to 1 step if needed\u001b[39;00m\n\u001b[0;32m     27\u001b[0m dt \u001b[38;5;241m=\u001b[39m T \u001b[38;5;241m/\u001b[39m n_steps\n\u001b[1;32m---> 29\u001b[0m S_paths \u001b[38;5;241m=\u001b[39m simulate_heston(S0, v0, mu, kappa, theta, xi, rho, T, dt, N)\n\u001b[0;32m     30\u001b[0m payoff \u001b[38;5;241m=\u001b[39m (S_paths[\u001b[38;5;241m-\u001b[39m\u001b[38;5;241m1\u001b[39m] \u001b[38;5;241m>\u001b[39m K)\u001b[38;5;241m.\u001b[39mastype(\u001b[38;5;28mfloat\u001b[39m)\n\u001b[0;32m     31\u001b[0m model_price \u001b[38;5;241m=\u001b[39m payoff\u001b[38;5;241m.\u001b[39mmean()\n",
      "Cell \u001b[1;32mIn[48], line 9\u001b[0m, in \u001b[0;36msimulate_heston\u001b[1;34m(S0, v0, mu, kappa, theta, xi, rho, T, dt, N)\u001b[0m\n\u001b[0;32m      6\u001b[0m v_paths[\u001b[38;5;241m0\u001b[39m] \u001b[38;5;241m=\u001b[39m v0\n\u001b[0;32m      8\u001b[0m \u001b[38;5;28;01mfor\u001b[39;00m t \u001b[38;5;129;01min\u001b[39;00m \u001b[38;5;28mrange\u001b[39m(\u001b[38;5;241m1\u001b[39m, steps \u001b[38;5;241m+\u001b[39m \u001b[38;5;241m1\u001b[39m):\n\u001b[1;32m----> 9\u001b[0m     z1 \u001b[38;5;241m=\u001b[39m np\u001b[38;5;241m.\u001b[39mrandom\u001b[38;5;241m.\u001b[39mnormal(size\u001b[38;5;241m=\u001b[39mN)\n\u001b[0;32m     10\u001b[0m     z2 \u001b[38;5;241m=\u001b[39m rho \u001b[38;5;241m*\u001b[39m z1 \u001b[38;5;241m+\u001b[39m np\u001b[38;5;241m.\u001b[39msqrt(\u001b[38;5;241m1\u001b[39m \u001b[38;5;241m-\u001b[39m rho \u001b[38;5;241m*\u001b[39m\u001b[38;5;241m*\u001b[39m \u001b[38;5;241m2\u001b[39m) \u001b[38;5;241m*\u001b[39m np\u001b[38;5;241m.\u001b[39mrandom\u001b[38;5;241m.\u001b[39mnormal(size\u001b[38;5;241m=\u001b[39mN)\n\u001b[0;32m     12\u001b[0m     vt \u001b[38;5;241m=\u001b[39m v_paths[t \u001b[38;5;241m-\u001b[39m \u001b[38;5;241m1\u001b[39m]\n",
      "\u001b[1;31mKeyboardInterrupt\u001b[0m: "
     ]
    }
   ],
   "source": [
    "calibrated_params = {\n",
    "    'kappa': 1.543,\n",
    "    'theta': 0.0309,\n",
    "    'xi': 0.028,\n",
    "    'rho': -0.602,\n",
    "    'v0': 0.0173\n",
    "}\n",
    "\n",
    "binary_heston_loss(\n",
    "    [1.543, 0.0309, 0.028, -0.602, 0.0173],\n",
    "    N=10000, verbose=True\n",
    ")"
   ]
  },
  {
   "cell_type": "code",
   "execution_count": 70,
   "id": "51b635a1",
   "metadata": {},
   "outputs": [
    {
     "data": {
      "image/png": "[encoded data removed]",
      "text/plain": [
       "<Figure size 640x480 with 1 Axes>"
      ]
     },
     "metadata": {},
     "output_type": "display_data"
    }
   ],
   "source": [
    "predicted = []\n",
    "for i in range(len(spots)):\n",
    "    S_paths = simulate_heston(\n",
    "        spots[i], 0.0173, 0.0, 1.543, 0.0309, 0.028, -0.602, ttes[i], 5, 5000\n",
    "    )\n",
    "    predicted.append((S_paths[-1] > strikes[i]).mean())\n",
    "\n",
    "plt.scatter(targets, predicted, alpha=0.3)\n",
    "plt.plot([0, 1], [0, 1], '--', color='gray')\n",
    "plt.xlabel(\"Market Price\")\n",
    "plt.ylabel(\"Model Price\")\n",
    "plt.title(\"Binary Option Calibration Fit\")\n",
    "plt.grid(True)\n",
    "plt.show()\n"
   ]
  },
  {
   "cell_type": "code",
   "execution_count": null,
   "id": "8772f8e5",
   "metadata": {},
   "outputs": [],
   "source": []
  }
 ],
 "metadata": {
  "kernelspec": {
   "display_name": "base",
   "language": "python",
   "name": "python3"
  },
  "language_info": {
   "codemirror_mode": {
    "name": "ipython",
    "version": 3
   },
   "file_extension": ".py",
   "mimetype": "text/x-python",
   "name": "python",
   "nbconvert_exporter": "python",
   "pygments_lexer": "ipython3",
   "version": "3.12.4"
  }
 },
 "nbformat": 4,
 "nbformat_minor": 5
}
